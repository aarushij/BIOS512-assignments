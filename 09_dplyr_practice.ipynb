{
 "cells": [
  {
   "cell_type": "code",
   "execution_count": 1,
   "metadata": {},
   "outputs": [
    {
     "name": "stderr",
     "output_type": "stream",
     "text": [
      "── \u001b[1mAttaching packages\u001b[22m ─────────────────────────────────────── tidyverse 1.2.1 ──\n",
      "\n",
      "\u001b[32m✔\u001b[39m \u001b[34mggplot2\u001b[39m 3.2.0     \u001b[32m✔\u001b[39m \u001b[34mpurrr  \u001b[39m 0.3.2\n",
      "\u001b[32m✔\u001b[39m \u001b[34mtibble \u001b[39m 2.1.3     \u001b[32m✔\u001b[39m \u001b[34mdplyr  \u001b[39m 0.8.3\n",
      "\u001b[32m✔\u001b[39m \u001b[34mtidyr  \u001b[39m 0.8.3     \u001b[32m✔\u001b[39m \u001b[34mstringr\u001b[39m 1.4.0\n",
      "\u001b[32m✔\u001b[39m \u001b[34mreadr  \u001b[39m 1.3.1     \u001b[32m✔\u001b[39m \u001b[34mforcats\u001b[39m 0.4.0\n",
      "\n",
      "── \u001b[1mConflicts\u001b[22m ────────────────────────────────────────── tidyverse_conflicts() ──\n",
      "\u001b[31m✖\u001b[39m \u001b[34mdplyr\u001b[39m::\u001b[32mfilter()\u001b[39m masks \u001b[34mstats\u001b[39m::filter()\n",
      "\u001b[31m✖\u001b[39m \u001b[34mdplyr\u001b[39m::\u001b[32mlag()\u001b[39m    masks \u001b[34mstats\u001b[39m::lag()\n",
      "\n"
     ]
    }
   ],
   "source": [
    "library('tidyverse')"
   ]
  },
  {
   "cell_type": "code",
   "execution_count": 2,
   "metadata": {},
   "outputs": [
    {
     "data": {
      "text/html": [
       "<table>\n",
       "<caption>A data.frame: 6 × 7</caption>\n",
       "<thead>\n",
       "\t<tr><th scope=col>year</th><th scope=col>name</th><th scope=col>country</th><th scope=col>time</th><th scope=col>race.time</th><th scope=col>MF</th><th scope=col>country.simple</th></tr>\n",
       "\t<tr><th scope=col>&lt;int&gt;</th><th scope=col>&lt;fct&gt;</th><th scope=col>&lt;fct&gt;</th><th scope=col>&lt;fct&gt;</th><th scope=col>&lt;dbl&gt;</th><th scope=col>&lt;fct&gt;</th><th scope=col>&lt;fct&gt;</th></tr>\n",
       "</thead>\n",
       "<tbody>\n",
       "\t<tr><td>2019</td><td>Lawrence Cherono          </td><td>Kenya        </td><td>2H 7M 57S </td><td>2.132500</td><td>Men's</td><td>Kenya        </td></tr>\n",
       "\t<tr><td>2018</td><td>Yuki Kawauchi             </td><td>Japan        </td><td>2H 15M 58S</td><td>2.266111</td><td>Men's</td><td>Japan        </td></tr>\n",
       "\t<tr><td>2017</td><td>Geoffrey Kirui            </td><td>Kenya        </td><td>2H 9M 37S </td><td>2.160278</td><td>Men's</td><td>Kenya        </td></tr>\n",
       "\t<tr><td>2016</td><td>Lemi Berhanu              </td><td>Ethiopia     </td><td>2H 12M 45S</td><td>2.212500</td><td>Men's</td><td>Ethiopia     </td></tr>\n",
       "\t<tr><td>2015</td><td>Lelisa Desisa             </td><td>Ethiopia     </td><td>2H 9M 17S </td><td>2.154722</td><td>Men's</td><td>Ethiopia     </td></tr>\n",
       "\t<tr><td>2014</td><td>Mebrahtom \"Meb\" Keflezighi</td><td>United States</td><td>2H 8M 37S </td><td>2.143611</td><td>Men's</td><td>United States</td></tr>\n",
       "</tbody>\n",
       "</table>\n"
      ],
      "text/latex": [
       "A data.frame: 6 × 7\n",
       "\\begin{tabular}{r|lllllll}\n",
       " year & name & country & time & race.time & MF & country.simple\\\\\n",
       " <int> & <fct> & <fct> & <fct> & <dbl> & <fct> & <fct>\\\\\n",
       "\\hline\n",
       "\t 2019 & Lawrence Cherono           & Kenya         & 2H 7M 57S  & 2.132500 & Men's & Kenya        \\\\\n",
       "\t 2018 & Yuki Kawauchi              & Japan         & 2H 15M 58S & 2.266111 & Men's & Japan        \\\\\n",
       "\t 2017 & Geoffrey Kirui             & Kenya         & 2H 9M 37S  & 2.160278 & Men's & Kenya        \\\\\n",
       "\t 2016 & Lemi Berhanu               & Ethiopia      & 2H 12M 45S & 2.212500 & Men's & Ethiopia     \\\\\n",
       "\t 2015 & Lelisa Desisa              & Ethiopia      & 2H 9M 17S  & 2.154722 & Men's & Ethiopia     \\\\\n",
       "\t 2014 & Mebrahtom \"Meb\" Keflezighi & United States & 2H 8M 37S  & 2.143611 & Men's & United States\\\\\n",
       "\\end{tabular}\n"
      ],
      "text/markdown": [
       "\n",
       "A data.frame: 6 × 7\n",
       "\n",
       "| year &lt;int&gt; | name &lt;fct&gt; | country &lt;fct&gt; | time &lt;fct&gt; | race.time &lt;dbl&gt; | MF &lt;fct&gt; | country.simple &lt;fct&gt; |\n",
       "|---|---|---|---|---|---|---|\n",
       "| 2019 | Lawrence Cherono           | Kenya         | 2H 7M 57S  | 2.132500 | Men's | Kenya         |\n",
       "| 2018 | Yuki Kawauchi              | Japan         | 2H 15M 58S | 2.266111 | Men's | Japan         |\n",
       "| 2017 | Geoffrey Kirui             | Kenya         | 2H 9M 37S  | 2.160278 | Men's | Kenya         |\n",
       "| 2016 | Lemi Berhanu               | Ethiopia      | 2H 12M 45S | 2.212500 | Men's | Ethiopia      |\n",
       "| 2015 | Lelisa Desisa              | Ethiopia      | 2H 9M 17S  | 2.154722 | Men's | Ethiopia      |\n",
       "| 2014 | Mebrahtom \"Meb\" Keflezighi | United States | 2H 8M 37S  | 2.143611 | Men's | United States |\n",
       "\n"
      ],
      "text/plain": [
       "  year name                       country       time       race.time MF   \n",
       "1 2019 Lawrence Cherono           Kenya         2H 7M 57S  2.132500  Men's\n",
       "2 2018 Yuki Kawauchi              Japan         2H 15M 58S 2.266111  Men's\n",
       "3 2017 Geoffrey Kirui             Kenya         2H 9M 37S  2.160278  Men's\n",
       "4 2016 Lemi Berhanu               Ethiopia      2H 12M 45S 2.212500  Men's\n",
       "5 2015 Lelisa Desisa              Ethiopia      2H 9M 17S  2.154722  Men's\n",
       "6 2014 Mebrahtom \"Meb\" Keflezighi United States 2H 8M 37S  2.143611  Men's\n",
       "  country.simple\n",
       "1 Kenya         \n",
       "2 Japan         \n",
       "3 Kenya         \n",
       "4 Ethiopia      \n",
       "5 Ethiopia      \n",
       "6 United States "
      ]
     },
     "metadata": {},
     "output_type": "display_data"
    }
   ],
   "source": [
    "df.marathon = read.csv('../data/marathon.csv')\n",
    "df.marathon %>% head"
   ]
  },
  {
   "cell_type": "markdown",
   "metadata": {},
   "source": [
    "# Filter"
   ]
  },
  {
   "cell_type": "markdown",
   "metadata": {},
   "source": [
    "- the filter operation does exactly what you expect given its name."
   ]
  },
  {
   "cell_type": "code",
   "execution_count": 3,
   "metadata": {},
   "outputs": [],
   "source": [
    "# e.g.\n",
    "\n",
    "# iris %>% filter(Species == 'setosa', Petal.Width > 0.2)"
   ]
  },
  {
   "cell_type": "markdown",
   "metadata": {},
   "source": [
    "- The syntax for the `equals` operator in R is `==`.\n",
    "- Greater than (`>` or `>=`) and less than (`<` or `<=`) are intuitive.\n",
    "- You can fitler on multiple columns by adding arguments to the filter operation."
   ]
  },
  {
   "cell_type": "markdown",
   "metadata": {},
   "source": [
    "Filter the marathon data to just the runners from Kenya."
   ]
  },
  {
   "cell_type": "code",
   "execution_count": 4,
   "metadata": {},
   "outputs": [
    {
     "data": {
      "text/html": [
       "<table>\n",
       "<caption>A data.frame: 6 × 7</caption>\n",
       "<thead>\n",
       "\t<tr><th scope=col>year</th><th scope=col>name</th><th scope=col>country</th><th scope=col>time</th><th scope=col>race.time</th><th scope=col>MF</th><th scope=col>country.simple</th></tr>\n",
       "\t<tr><th scope=col>&lt;int&gt;</th><th scope=col>&lt;fct&gt;</th><th scope=col>&lt;fct&gt;</th><th scope=col>&lt;fct&gt;</th><th scope=col>&lt;dbl&gt;</th><th scope=col>&lt;fct&gt;</th><th scope=col>&lt;fct&gt;</th></tr>\n",
       "</thead>\n",
       "<tbody>\n",
       "\t<tr><td>2019</td><td>Lawrence Cherono         </td><td>Kenya</td><td>2H 7M 57S </td><td>2.132500</td><td>Men's</td><td>Kenya</td></tr>\n",
       "\t<tr><td>2017</td><td>Geoffrey Kirui           </td><td>Kenya</td><td>2H 9M 37S </td><td>2.160278</td><td>Men's</td><td>Kenya</td></tr>\n",
       "\t<tr><td>2012</td><td>Wesley Korir             </td><td>Kenya</td><td>2H 12M 40S</td><td>2.211111</td><td>Men's</td><td>Kenya</td></tr>\n",
       "\t<tr><td>2011</td><td>Geoffrey Mutai           </td><td>Kenya</td><td>2H 3M 2S  </td><td>2.050556</td><td>Men's</td><td>Kenya</td></tr>\n",
       "\t<tr><td>2010</td><td>Robert Kiprono Cheruiyot </td><td>Kenya</td><td>2H 5M 52S </td><td>2.097778</td><td>Men's</td><td>Kenya</td></tr>\n",
       "\t<tr><td>2008</td><td>Robert Kipkoech Cheruiyot</td><td>Kenya</td><td>2H 7M 46S </td><td>2.129444</td><td>Men's</td><td>Kenya</td></tr>\n",
       "</tbody>\n",
       "</table>\n"
      ],
      "text/latex": [
       "A data.frame: 6 × 7\n",
       "\\begin{tabular}{r|lllllll}\n",
       " year & name & country & time & race.time & MF & country.simple\\\\\n",
       " <int> & <fct> & <fct> & <fct> & <dbl> & <fct> & <fct>\\\\\n",
       "\\hline\n",
       "\t 2019 & Lawrence Cherono          & Kenya & 2H 7M 57S  & 2.132500 & Men's & Kenya\\\\\n",
       "\t 2017 & Geoffrey Kirui            & Kenya & 2H 9M 37S  & 2.160278 & Men's & Kenya\\\\\n",
       "\t 2012 & Wesley Korir              & Kenya & 2H 12M 40S & 2.211111 & Men's & Kenya\\\\\n",
       "\t 2011 & Geoffrey Mutai            & Kenya & 2H 3M 2S   & 2.050556 & Men's & Kenya\\\\\n",
       "\t 2010 & Robert Kiprono Cheruiyot  & Kenya & 2H 5M 52S  & 2.097778 & Men's & Kenya\\\\\n",
       "\t 2008 & Robert Kipkoech Cheruiyot & Kenya & 2H 7M 46S  & 2.129444 & Men's & Kenya\\\\\n",
       "\\end{tabular}\n"
      ],
      "text/markdown": [
       "\n",
       "A data.frame: 6 × 7\n",
       "\n",
       "| year &lt;int&gt; | name &lt;fct&gt; | country &lt;fct&gt; | time &lt;fct&gt; | race.time &lt;dbl&gt; | MF &lt;fct&gt; | country.simple &lt;fct&gt; |\n",
       "|---|---|---|---|---|---|---|\n",
       "| 2019 | Lawrence Cherono          | Kenya | 2H 7M 57S  | 2.132500 | Men's | Kenya |\n",
       "| 2017 | Geoffrey Kirui            | Kenya | 2H 9M 37S  | 2.160278 | Men's | Kenya |\n",
       "| 2012 | Wesley Korir              | Kenya | 2H 12M 40S | 2.211111 | Men's | Kenya |\n",
       "| 2011 | Geoffrey Mutai            | Kenya | 2H 3M 2S   | 2.050556 | Men's | Kenya |\n",
       "| 2010 | Robert Kiprono Cheruiyot  | Kenya | 2H 5M 52S  | 2.097778 | Men's | Kenya |\n",
       "| 2008 | Robert Kipkoech Cheruiyot | Kenya | 2H 7M 46S  | 2.129444 | Men's | Kenya |\n",
       "\n"
      ],
      "text/plain": [
       "  year name                      country time       race.time MF   \n",
       "1 2019 Lawrence Cherono          Kenya   2H 7M 57S  2.132500  Men's\n",
       "2 2017 Geoffrey Kirui            Kenya   2H 9M 37S  2.160278  Men's\n",
       "3 2012 Wesley Korir              Kenya   2H 12M 40S 2.211111  Men's\n",
       "4 2011 Geoffrey Mutai            Kenya   2H 3M 2S   2.050556  Men's\n",
       "5 2010 Robert Kiprono Cheruiyot  Kenya   2H 5M 52S  2.097778  Men's\n",
       "6 2008 Robert Kipkoech Cheruiyot Kenya   2H 7M 46S  2.129444  Men's\n",
       "  country.simple\n",
       "1 Kenya         \n",
       "2 Kenya         \n",
       "3 Kenya         \n",
       "4 Kenya         \n",
       "5 Kenya         \n",
       "6 Kenya         "
      ]
     },
     "metadata": {},
     "output_type": "display_data"
    }
   ],
   "source": [
    "df.marathon.kenya = df.marathon %>% filter(country == 'Kenya')\n",
    "head(df.marathon.kenya)"
   ]
  },
  {
   "cell_type": "markdown",
   "metadata": {},
   "source": [
    "# Select"
   ]
  },
  {
   "cell_type": "markdown",
   "metadata": {},
   "source": [
    "- select let's you include/exclude columns."
   ]
  },
  {
   "cell_type": "code",
   "execution_count": 5,
   "metadata": {},
   "outputs": [],
   "source": [
    "# e.g.\n",
    "\n",
    "# iris %>% select(Species, Sepal.Length) %>% head"
   ]
  },
  {
   "cell_type": "markdown",
   "metadata": {},
   "source": [
    "Select just the columns that represent runner names and country from the marathon data."
   ]
  },
  {
   "cell_type": "code",
   "execution_count": 6,
   "metadata": {},
   "outputs": [
    {
     "data": {
      "text/html": [
       "<table>\n",
       "<caption>A data.frame: 6 × 2</caption>\n",
       "<thead>\n",
       "\t<tr><th scope=col>name</th><th scope=col>country</th></tr>\n",
       "\t<tr><th scope=col>&lt;fct&gt;</th><th scope=col>&lt;fct&gt;</th></tr>\n",
       "</thead>\n",
       "<tbody>\n",
       "\t<tr><td>Lawrence Cherono          </td><td>Kenya        </td></tr>\n",
       "\t<tr><td>Yuki Kawauchi             </td><td>Japan        </td></tr>\n",
       "\t<tr><td>Geoffrey Kirui            </td><td>Kenya        </td></tr>\n",
       "\t<tr><td>Lemi Berhanu              </td><td>Ethiopia     </td></tr>\n",
       "\t<tr><td>Lelisa Desisa             </td><td>Ethiopia     </td></tr>\n",
       "\t<tr><td>Mebrahtom \"Meb\" Keflezighi</td><td>United States</td></tr>\n",
       "</tbody>\n",
       "</table>\n"
      ],
      "text/latex": [
       "A data.frame: 6 × 2\n",
       "\\begin{tabular}{r|ll}\n",
       " name & country\\\\\n",
       " <fct> & <fct>\\\\\n",
       "\\hline\n",
       "\t Lawrence Cherono           & Kenya        \\\\\n",
       "\t Yuki Kawauchi              & Japan        \\\\\n",
       "\t Geoffrey Kirui             & Kenya        \\\\\n",
       "\t Lemi Berhanu               & Ethiopia     \\\\\n",
       "\t Lelisa Desisa              & Ethiopia     \\\\\n",
       "\t Mebrahtom \"Meb\" Keflezighi & United States\\\\\n",
       "\\end{tabular}\n"
      ],
      "text/markdown": [
       "\n",
       "A data.frame: 6 × 2\n",
       "\n",
       "| name &lt;fct&gt; | country &lt;fct&gt; |\n",
       "|---|---|\n",
       "| Lawrence Cherono           | Kenya         |\n",
       "| Yuki Kawauchi              | Japan         |\n",
       "| Geoffrey Kirui             | Kenya         |\n",
       "| Lemi Berhanu               | Ethiopia      |\n",
       "| Lelisa Desisa              | Ethiopia      |\n",
       "| Mebrahtom \"Meb\" Keflezighi | United States |\n",
       "\n"
      ],
      "text/plain": [
       "  name                       country      \n",
       "1 Lawrence Cherono           Kenya        \n",
       "2 Yuki Kawauchi              Japan        \n",
       "3 Geoffrey Kirui             Kenya        \n",
       "4 Lemi Berhanu               Ethiopia     \n",
       "5 Lelisa Desisa              Ethiopia     \n",
       "6 Mebrahtom \"Meb\" Keflezighi United States"
      ]
     },
     "metadata": {},
     "output_type": "display_data"
    }
   ],
   "source": [
    "df.names.country= df.marathon%>% select(name, country) \n",
    "head(df.names.country)"
   ]
  },
  {
   "cell_type": "markdown",
   "metadata": {},
   "source": [
    "# Putting it all together"
   ]
  },
  {
   "cell_type": "markdown",
   "metadata": {},
   "source": [
    "Use `group_by`, `filter`, and `summarize` to show the best race times for US and Kenyan women runners. (*Hint: use the `%in%` operator to filter by two values for one column*). Fill in the missing pieces below:"
   ]
  },
  {
   "cell_type": "code",
   "execution_count": 7,
   "metadata": {},
   "outputs": [
    {
     "data": {
      "text/html": [
       "<table>\n",
       "<caption>A tibble: 2 × 2</caption>\n",
       "<thead>\n",
       "\t<tr><th scope=col>country</th><th scope=col>best.race.time</th></tr>\n",
       "\t<tr><th scope=col>&lt;fct&gt;</th><th scope=col>&lt;dbl&gt;</th></tr>\n",
       "</thead>\n",
       "<tbody>\n",
       "\t<tr><td>Kenya        </td><td>2.537778</td></tr>\n",
       "\t<tr><td>United States</td><td>3.173889</td></tr>\n",
       "</tbody>\n",
       "</table>\n"
      ],
      "text/latex": [
       "A tibble: 2 × 2\n",
       "\\begin{tabular}{r|ll}\n",
       " country & best.race.time\\\\\n",
       " <fct> & <dbl>\\\\\n",
       "\\hline\n",
       "\t Kenya         & 2.537778\\\\\n",
       "\t United States & 3.173889\\\\\n",
       "\\end{tabular}\n"
      ],
      "text/markdown": [
       "\n",
       "A tibble: 2 × 2\n",
       "\n",
       "| country &lt;fct&gt; | best.race.time &lt;dbl&gt; |\n",
       "|---|---|\n",
       "| Kenya         | 2.537778 |\n",
       "| United States | 3.173889 |\n",
       "\n"
      ],
      "text/plain": [
       "  country       best.race.time\n",
       "1 Kenya         2.537778      \n",
       "2 United States 3.173889      "
      ]
     },
     "metadata": {},
     "output_type": "display_data"
    }
   ],
   "source": [
    "df.new = df.marathon %>%\n",
    "     filter(MF == \"Women's\", country %in% c('United States', 'Kenya')) %>%\n",
    "     group_by(country) %>%\n",
    "     summarize(best.race.time = max(race.time))\n",
    "df.new"
   ]
  },
  {
   "cell_type": "markdown",
   "metadata": {},
   "source": [
    "Use `filter`, `select`, `head`, and `arrange` to show the best women's race times in the data and the country of the runners. Fill in the missing pieces below:"
   ]
  },
  {
   "cell_type": "code",
   "execution_count": 8,
   "metadata": {},
   "outputs": [
    {
     "data": {
      "text/html": [
       "<table>\n",
       "<caption>A data.frame: 6 × 2</caption>\n",
       "<thead>\n",
       "\t<tr><th scope=col>race.time</th><th scope=col>country</th></tr>\n",
       "\t<tr><th scope=col>&lt;dbl&gt;</th><th scope=col>&lt;fct&gt;</th></tr>\n",
       "</thead>\n",
       "<tbody>\n",
       "\t<tr><td>2.333056</td><td>Ethiopia     </td></tr>\n",
       "\t<tr><td>2.345278</td><td>Kenya        </td></tr>\n",
       "\t<tr><td>2.362500</td><td>Germany      </td></tr>\n",
       "\t<tr><td>2.364444</td><td>Kenya        </td></tr>\n",
       "\t<tr><td>2.376667</td><td>Kenya        </td></tr>\n",
       "\t<tr><td>2.378611</td><td>United States</td></tr>\n",
       "</tbody>\n",
       "</table>\n"
      ],
      "text/latex": [
       "A data.frame: 6 × 2\n",
       "\\begin{tabular}{r|ll}\n",
       " race.time & country\\\\\n",
       " <dbl> & <fct>\\\\\n",
       "\\hline\n",
       "\t 2.333056 & Ethiopia     \\\\\n",
       "\t 2.345278 & Kenya        \\\\\n",
       "\t 2.362500 & Germany      \\\\\n",
       "\t 2.364444 & Kenya        \\\\\n",
       "\t 2.376667 & Kenya        \\\\\n",
       "\t 2.378611 & United States\\\\\n",
       "\\end{tabular}\n"
      ],
      "text/markdown": [
       "\n",
       "A data.frame: 6 × 2\n",
       "\n",
       "| race.time &lt;dbl&gt; | country &lt;fct&gt; |\n",
       "|---|---|\n",
       "| 2.333056 | Ethiopia      |\n",
       "| 2.345278 | Kenya         |\n",
       "| 2.362500 | Germany       |\n",
       "| 2.364444 | Kenya         |\n",
       "| 2.376667 | Kenya         |\n",
       "| 2.378611 | United States |\n",
       "\n"
      ],
      "text/plain": [
       "  race.time country      \n",
       "1 2.333056  Ethiopia     \n",
       "2 2.345278  Kenya        \n",
       "3 2.362500  Germany      \n",
       "4 2.364444  Kenya        \n",
       "5 2.376667  Kenya        \n",
       "6 2.378611  United States"
      ]
     },
     "metadata": {},
     "output_type": "display_data"
    }
   ],
   "source": [
    "df.new2 = df.marathon %>%\n",
    "     filter(MF == \"Women's\") %>%\n",
    "     select(race.time, country) %>%\n",
    "     arrange(race.time) %>%\n",
    "     head()\n",
    "df.new2"
   ]
  },
  {
   "cell_type": "markdown",
   "metadata": {},
   "source": [
    "What's the best race time ever for a US man?"
   ]
  },
  {
   "cell_type": "code",
   "execution_count": 9,
   "metadata": {},
   "outputs": [
    {
     "data": {
      "text/html": [
       "<table>\n",
       "<caption>A data.frame: 1 × 1</caption>\n",
       "<thead>\n",
       "\t<tr><th scope=col>best.race.time</th></tr>\n",
       "\t<tr><th scope=col>&lt;dbl&gt;</th></tr>\n",
       "</thead>\n",
       "<tbody>\n",
       "\t<tr><td>2.143611</td></tr>\n",
       "</tbody>\n",
       "</table>\n"
      ],
      "text/latex": [
       "A data.frame: 1 × 1\n",
       "\\begin{tabular}{r|l}\n",
       " best.race.time\\\\\n",
       " <dbl>\\\\\n",
       "\\hline\n",
       "\t 2.143611\\\\\n",
       "\\end{tabular}\n"
      ],
      "text/markdown": [
       "\n",
       "A data.frame: 1 × 1\n",
       "\n",
       "| best.race.time &lt;dbl&gt; |\n",
       "|---|\n",
       "| 2.143611 |\n",
       "\n"
      ],
      "text/plain": [
       "  best.race.time\n",
       "1 2.143611      "
      ]
     },
     "metadata": {},
     "output_type": "display_data"
    }
   ],
   "source": [
    "df.usmen = df.marathon %>%\n",
    "     filter(MF == \"Men's\", country == 'United States') %>% \n",
    "     summarize(best.race.time = min(race.time))\n",
    "df.usmen"
   ]
  },
  {
   "cell_type": "markdown",
   "metadata": {},
   "source": [
    "How does the best US men's time compare the the best race time in the data overall?"
   ]
  },
  {
   "cell_type": "code",
   "execution_count": 10,
   "metadata": {},
   "outputs": [
    {
     "data": {
      "text/html": [
       "<table>\n",
       "<caption>A data.frame: 1 × 1</caption>\n",
       "<thead>\n",
       "\t<tr><th scope=col>best.race.time</th></tr>\n",
       "\t<tr><th scope=col>&lt;dbl&gt;</th></tr>\n",
       "</thead>\n",
       "<tbody>\n",
       "\t<tr><td>2.050556</td></tr>\n",
       "</tbody>\n",
       "</table>\n"
      ],
      "text/latex": [
       "A data.frame: 1 × 1\n",
       "\\begin{tabular}{r|l}\n",
       " best.race.time\\\\\n",
       " <dbl>\\\\\n",
       "\\hline\n",
       "\t 2.050556\\\\\n",
       "\\end{tabular}\n"
      ],
      "text/markdown": [
       "\n",
       "A data.frame: 1 × 1\n",
       "\n",
       "| best.race.time &lt;dbl&gt; |\n",
       "|---|\n",
       "| 2.050556 |\n",
       "\n"
      ],
      "text/plain": [
       "  best.race.time\n",
       "1 2.050556      "
      ]
     },
     "metadata": {},
     "output_type": "display_data"
    }
   ],
   "source": [
    "df.best = df.marathon %>%\n",
    "     filter(MF == \"Men's\") %>% \n",
    "     summarize(best.race.time = min(race.time))\n",
    "df.best"
   ]
  },
  {
   "cell_type": "markdown",
   "metadata": {},
   "source": [
    "The best US men's race time is 0.09 hours slower than the fastest overall race time. "
   ]
  },
  {
   "cell_type": "markdown",
   "metadata": {},
   "source": [
    "# Bonus"
   ]
  },
  {
   "cell_type": "markdown",
   "metadata": {},
   "source": [
    "For all countries with at least 5 winners in the men's category, which country has the best median race time in the men's category? (*Hint: use the `n()` function to count the winners by country.) "
   ]
  },
  {
   "cell_type": "code",
   "execution_count": 11,
   "metadata": {},
   "outputs": [
    {
     "data": {
      "text/html": [
       "<table>\n",
       "<caption>A grouped_df: 6 × 8</caption>\n",
       "<thead>\n",
       "\t<tr><th scope=col>year</th><th scope=col>name</th><th scope=col>country</th><th scope=col>time</th><th scope=col>race.time</th><th scope=col>MF</th><th scope=col>country.simple</th><th scope=col>N.winners</th></tr>\n",
       "\t<tr><th scope=col>&lt;int&gt;</th><th scope=col>&lt;fct&gt;</th><th scope=col>&lt;fct&gt;</th><th scope=col>&lt;fct&gt;</th><th scope=col>&lt;dbl&gt;</th><th scope=col>&lt;fct&gt;</th><th scope=col>&lt;fct&gt;</th><th scope=col>&lt;int&gt;</th></tr>\n",
       "</thead>\n",
       "<tbody>\n",
       "\t<tr><td>2019</td><td>Lawrence Cherono          </td><td>Kenya        </td><td>2H 7M 57S </td><td>2.132500</td><td>Men's</td><td>Kenya        </td><td>22</td></tr>\n",
       "\t<tr><td>2018</td><td>Yuki Kawauchi             </td><td>Japan        </td><td>2H 15M 58S</td><td>2.266111</td><td>Men's</td><td>Japan        </td><td> 9</td></tr>\n",
       "\t<tr><td>2017</td><td>Geoffrey Kirui            </td><td>Kenya        </td><td>2H 9M 37S </td><td>2.160278</td><td>Men's</td><td>Kenya        </td><td>22</td></tr>\n",
       "\t<tr><td>2016</td><td>Lemi Berhanu              </td><td>Ethiopia     </td><td>2H 12M 45S</td><td>2.212500</td><td>Men's</td><td>Ethiopia     </td><td> 6</td></tr>\n",
       "\t<tr><td>2015</td><td>Lelisa Desisa             </td><td>Ethiopia     </td><td>2H 9M 17S </td><td>2.154722</td><td>Men's</td><td>Ethiopia     </td><td> 6</td></tr>\n",
       "\t<tr><td>2014</td><td>Mebrahtom \"Meb\" Keflezighi</td><td>United States</td><td>2H 8M 37S </td><td>2.143611</td><td>Men's</td><td>United States</td><td>44</td></tr>\n",
       "</tbody>\n",
       "</table>\n"
      ],
      "text/latex": [
       "A grouped_df: 6 × 8\n",
       "\\begin{tabular}{r|llllllll}\n",
       " year & name & country & time & race.time & MF & country.simple & N.winners\\\\\n",
       " <int> & <fct> & <fct> & <fct> & <dbl> & <fct> & <fct> & <int>\\\\\n",
       "\\hline\n",
       "\t 2019 & Lawrence Cherono           & Kenya         & 2H 7M 57S  & 2.132500 & Men's & Kenya         & 22\\\\\n",
       "\t 2018 & Yuki Kawauchi              & Japan         & 2H 15M 58S & 2.266111 & Men's & Japan         &  9\\\\\n",
       "\t 2017 & Geoffrey Kirui             & Kenya         & 2H 9M 37S  & 2.160278 & Men's & Kenya         & 22\\\\\n",
       "\t 2016 & Lemi Berhanu               & Ethiopia      & 2H 12M 45S & 2.212500 & Men's & Ethiopia      &  6\\\\\n",
       "\t 2015 & Lelisa Desisa              & Ethiopia      & 2H 9M 17S  & 2.154722 & Men's & Ethiopia      &  6\\\\\n",
       "\t 2014 & Mebrahtom \"Meb\" Keflezighi & United States & 2H 8M 37S  & 2.143611 & Men's & United States & 44\\\\\n",
       "\\end{tabular}\n"
      ],
      "text/markdown": [
       "\n",
       "A grouped_df: 6 × 8\n",
       "\n",
       "| year &lt;int&gt; | name &lt;fct&gt; | country &lt;fct&gt; | time &lt;fct&gt; | race.time &lt;dbl&gt; | MF &lt;fct&gt; | country.simple &lt;fct&gt; | N.winners &lt;int&gt; |\n",
       "|---|---|---|---|---|---|---|---|\n",
       "| 2019 | Lawrence Cherono           | Kenya         | 2H 7M 57S  | 2.132500 | Men's | Kenya         | 22 |\n",
       "| 2018 | Yuki Kawauchi              | Japan         | 2H 15M 58S | 2.266111 | Men's | Japan         |  9 |\n",
       "| 2017 | Geoffrey Kirui             | Kenya         | 2H 9M 37S  | 2.160278 | Men's | Kenya         | 22 |\n",
       "| 2016 | Lemi Berhanu               | Ethiopia      | 2H 12M 45S | 2.212500 | Men's | Ethiopia      |  6 |\n",
       "| 2015 | Lelisa Desisa              | Ethiopia      | 2H 9M 17S  | 2.154722 | Men's | Ethiopia      |  6 |\n",
       "| 2014 | Mebrahtom \"Meb\" Keflezighi | United States | 2H 8M 37S  | 2.143611 | Men's | United States | 44 |\n",
       "\n"
      ],
      "text/plain": [
       "  year name                       country       time       race.time MF   \n",
       "1 2019 Lawrence Cherono           Kenya         2H 7M 57S  2.132500  Men's\n",
       "2 2018 Yuki Kawauchi              Japan         2H 15M 58S 2.266111  Men's\n",
       "3 2017 Geoffrey Kirui             Kenya         2H 9M 37S  2.160278  Men's\n",
       "4 2016 Lemi Berhanu               Ethiopia      2H 12M 45S 2.212500  Men's\n",
       "5 2015 Lelisa Desisa              Ethiopia      2H 9M 17S  2.154722  Men's\n",
       "6 2014 Mebrahtom \"Meb\" Keflezighi United States 2H 8M 37S  2.143611  Men's\n",
       "  country.simple N.winners\n",
       "1 Kenya          22       \n",
       "2 Japan           9       \n",
       "3 Kenya          22       \n",
       "4 Ethiopia        6       \n",
       "5 Ethiopia        6       \n",
       "6 United States  44       "
      ]
     },
     "metadata": {},
     "output_type": "display_data"
    }
   ],
   "source": [
    "# This should get you started. It adds a column \"N.winners\" that represents the\n",
    "# total winners from the runner's country.\n",
    "\n",
    "df.marathon.winners = df.marathon %>%\n",
    "    filter(MF == \"Men's\") %>%\n",
    "    group_by(country) %>%\n",
    "    mutate(N.winners = n())  \n",
    "head(df.marathon.winners)"
   ]
  },
  {
   "cell_type": "code",
   "execution_count": 12,
   "metadata": {},
   "outputs": [
    {
     "data": {
      "text/html": [
       "<table>\n",
       "<caption>A tibble: 6 × 2</caption>\n",
       "<thead>\n",
       "\t<tr><th scope=col>country</th><th scope=col>best.med.race.time</th></tr>\n",
       "\t<tr><th scope=col>&lt;fct&gt;</th><th scope=col>&lt;dbl&gt;</th></tr>\n",
       "</thead>\n",
       "<tbody>\n",
       "\t<tr><td>Kenya        </td><td>2.155139</td></tr>\n",
       "\t<tr><td>Ethiopia     </td><td>2.163750</td></tr>\n",
       "\t<tr><td>Japan        </td><td>2.275833</td></tr>\n",
       "\t<tr><td>Finland      </td><td>2.348333</td></tr>\n",
       "\t<tr><td>United States</td><td>2.478889</td></tr>\n",
       "\t<tr><td>Canada       </td><td>2.503472</td></tr>\n",
       "</tbody>\n",
       "</table>\n"
      ],
      "text/latex": [
       "A tibble: 6 × 2\n",
       "\\begin{tabular}{r|ll}\n",
       " country & best.med.race.time\\\\\n",
       " <fct> & <dbl>\\\\\n",
       "\\hline\n",
       "\t Kenya         & 2.155139\\\\\n",
       "\t Ethiopia      & 2.163750\\\\\n",
       "\t Japan         & 2.275833\\\\\n",
       "\t Finland       & 2.348333\\\\\n",
       "\t United States & 2.478889\\\\\n",
       "\t Canada        & 2.503472\\\\\n",
       "\\end{tabular}\n"
      ],
      "text/markdown": [
       "\n",
       "A tibble: 6 × 2\n",
       "\n",
       "| country &lt;fct&gt; | best.med.race.time &lt;dbl&gt; |\n",
       "|---|---|\n",
       "| Kenya         | 2.155139 |\n",
       "| Ethiopia      | 2.163750 |\n",
       "| Japan         | 2.275833 |\n",
       "| Finland       | 2.348333 |\n",
       "| United States | 2.478889 |\n",
       "| Canada        | 2.503472 |\n",
       "\n"
      ],
      "text/plain": [
       "  country       best.med.race.time\n",
       "1 Kenya         2.155139          \n",
       "2 Ethiopia      2.163750          \n",
       "3 Japan         2.275833          \n",
       "4 Finland       2.348333          \n",
       "5 United States 2.478889          \n",
       "6 Canada        2.503472          "
      ]
     },
     "metadata": {},
     "output_type": "display_data"
    }
   ],
   "source": [
    "df.winners = df.marathon.winners %>%\n",
    "    filter(MF == \"Men's\", N.winners > 4) %>%\n",
    "summarize(best.med.race.time = median(race.time)) %>%\n",
    "arrange(best.med.race.time)\n",
    "head(df.winners)"
   ]
  },
  {
   "cell_type": "markdown",
   "metadata": {},
   "source": [
    "Kenya had the best median race time"
   ]
  }
 ],
 "metadata": {
  "kernelspec": {
   "display_name": "R",
   "language": "R",
   "name": "ir"
  },
  "language_info": {
   "codemirror_mode": "r",
   "file_extension": ".r",
   "mimetype": "text/x-r-source",
   "name": "R",
   "pygments_lexer": "r",
   "version": "3.6.0"
  }
 },
 "nbformat": 4,
 "nbformat_minor": 4
}
